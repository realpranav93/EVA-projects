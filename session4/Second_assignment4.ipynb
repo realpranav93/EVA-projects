{
  "nbformat": 4,
  "nbformat_minor": 0,
  "metadata": {
    "colab": {
      "name": "Second_assignment4.ipynb",
      "version": "0.3.2",
      "provenance": [],
      "collapsed_sections": [],
      "include_colab_link": true
    },
    "kernelspec": {
      "name": "python3",
      "display_name": "Python 3"
    },
    "accelerator": "GPU"
  },
  "cells": [
    {
      "cell_type": "markdown",
      "metadata": {
        "id": "view-in-github",
        "colab_type": "text"
      },
      "source": [
        "<a href=\"https://colab.research.google.com/github/realpranav93/EVA-projects/blob/master/session4/Second_assignment4.ipynb\" target=\"_parent\"><img src=\"https://colab.research.google.com/assets/colab-badge.svg\" alt=\"Open In Colab\"/></a>"
      ]
    },
    {
      "cell_type": "markdown",
      "metadata": {
        "id": "bcT6G9__9rVL",
        "colab_type": "text"
      },
      "source": [
        "### HEADER\n",
        "\n",
        "---\n",
        "This iteration has the Second Iteration\n",
        "\n",
        "\n",
        "---\n",
        "**First Iteration Model:** \n",
        "- Parameters:  11,750\n",
        "- Epoch: 20\n",
        "- Batch size: 32 \n",
        "- validation accuracy: 99.24%\n",
        "\n",
        "**Second Iteration model:** \n",
        "- Parameters:  14,840\n",
        "- Epoch: 30\n",
        "- Batch size: 32 \n",
        "- Changes: Increase parameters , Drop out is added, Epochs is increased\n",
        "- Validation accuracy: 99.25%\n",
        "\n"
      ]
    },
    {
      "cell_type": "code",
      "metadata": {
        "id": "3m3w1Cw49Zkt",
        "colab_type": "code",
        "colab": {},
        "cellView": "form"
      },
      "source": [
        "#@title\n",
        "# https://keras.io/\n",
        "!pip install -q keras\n",
        "import keras"
      ],
      "execution_count": 0,
      "outputs": []
    },
    {
      "cell_type": "code",
      "metadata": {
        "id": "Eso6UHE080D4",
        "colab_type": "code",
        "colab": {},
        "cellView": "form"
      },
      "source": [
        "#@title\n",
        "import numpy as np\n",
        "\n",
        "from keras.models import Sequential\n",
        "from keras.layers import Dense, Dropout, Activation, Flatten, Add\n",
        "from keras.layers import Convolution2D, MaxPooling2D\n",
        "from keras.utils import np_utils\n",
        "\n",
        "from keras.datasets import mnist"
      ],
      "execution_count": 0,
      "outputs": []
    },
    {
      "cell_type": "code",
      "metadata": {
        "id": "7eRM0QWN83PV",
        "colab_type": "code",
        "colab": {},
        "cellView": "form"
      },
      "source": [
        "#@title\n",
        "(X_train, y_train), (X_test, y_test) = mnist.load_data()"
      ],
      "execution_count": 0,
      "outputs": []
    },
    {
      "cell_type": "code",
      "metadata": {
        "id": "4a4Be72j8-ZC",
        "colab_type": "code",
        "colab": {},
        "cellView": "form"
      },
      "source": [
        "#@title\n",
        "print (X_train.shape)\n",
        "from matplotlib import pyplot as plt\n",
        "%matplotlib inline\n",
        "plt.imshow(X_train[0])"
      ],
      "execution_count": 0,
      "outputs": []
    },
    {
      "cell_type": "code",
      "metadata": {
        "id": "dkmprriw9AnZ",
        "colab_type": "code",
        "colab": {},
        "cellView": "form"
      },
      "source": [
        "#@title\n",
        "X_train = X_train.reshape(X_train.shape[0], 28, 28,1)\n",
        "X_test = X_test.reshape(X_test.shape[0], 28, 28,1)"
      ],
      "execution_count": 0,
      "outputs": []
    },
    {
      "cell_type": "code",
      "metadata": {
        "id": "X2m4YS4E9CRh",
        "colab_type": "code",
        "colab": {},
        "cellView": "form"
      },
      "source": [
        "#@title\n",
        "X_train = X_train.astype('float32')\n",
        "X_test = X_test.astype('float32')\n",
        "X_train /= 255\n",
        "X_test /= 255"
      ],
      "execution_count": 0,
      "outputs": []
    },
    {
      "cell_type": "code",
      "metadata": {
        "id": "0Mn0vAYD9DvB",
        "colab_type": "code",
        "colab": {},
        "cellView": "form"
      },
      "source": [
        "#@title\n",
        "y_train[:10]"
      ],
      "execution_count": 0,
      "outputs": []
    },
    {
      "cell_type": "code",
      "metadata": {
        "id": "ZG8JiXR39FHC",
        "colab_type": "code",
        "colab": {},
        "cellView": "form"
      },
      "source": [
        "#@title\n",
        "# Convert 1-dimensional class arrays to 10-dimensional class matrices\n",
        "Y_train = np_utils.to_categorical(y_train, 10)\n",
        "Y_test = np_utils.to_categorical(y_test, 10)"
      ],
      "execution_count": 0,
      "outputs": []
    },
    {
      "cell_type": "code",
      "metadata": {
        "id": "fYlFRvKS9HMB",
        "colab_type": "code",
        "colab": {},
        "cellView": "form"
      },
      "source": [
        "#@title\n",
        "Y_train[:10]\n"
      ],
      "execution_count": 0,
      "outputs": []
    },
    {
      "cell_type": "markdown",
      "metadata": {
        "id": "QQusSQM8WPTY",
        "colab_type": "text"
      },
      "source": [
        "**SECOND ITERATION**\n",
        "\n",
        "---\n",
        "For this iteration we would add dropout layers and increase parameters and increase epoch \n",
        "\n",
        "\n",
        "---\n",
        "\n"
      ]
    },
    {
      "cell_type": "code",
      "metadata": {
        "id": "sYNLEz8wWO3_",
        "colab_type": "code",
        "outputId": "2aac948b-c02e-4a11-a3e5-be400f140622",
        "colab": {
          "base_uri": "https://localhost:8080/",
          "height": 2077
        }
      },
      "source": [
        "from keras.layers import Activation\n",
        "from keras.layers import BatchNormalization\n",
        "model2 = Sequential()\n",
        "\n",
        "model2.add(Convolution2D(10, 3, 3, activation='relu', input_shape=(28,28,1),use_bias = False)) #26\n",
        "model2.add(BatchNormalization())\n",
        "model2.add(Convolution2D(18, 3, activation='relu',use_bias = False)) #24\n",
        "model2.add(BatchNormalization())\n",
        "model2.add(Convolution2D(18, 3, activation='relu',use_bias = False)) #22\n",
        "model2.add(BatchNormalization())\n",
        "model2.add(Dropout(0.15))\n",
        "\n",
        "model2.add(MaxPooling2D(pool_size=(2, 2))) #11\n",
        "model2.add(Convolution2D(10,1, activation='relu',use_bias = False)) #11\n",
        "model2.add(BatchNormalization())\n",
        "model2.add(Convolution2D(18, 3, activation='relu',use_bias = False)) #9\n",
        "model2.add(BatchNormalization())\n",
        "model2.add(Convolution2D(18, 3, activation='relu',use_bias = False)) #7\n",
        "model2.add(Dropout(0.15))\n",
        "\n",
        "model2.add(BatchNormalization())\n",
        "model2.add(Convolution2D(10,1, activation='relu',use_bias = False))#7\n",
        "model2.add(BatchNormalization())\n",
        "model2.add(Convolution2D(10,7)) #1\n",
        "\n",
        "\n",
        "model2.add(Flatten())\n",
        "model2.add(Activation('softmax'))\n",
        "model2.summary()\n",
        "model2.compile(loss='categorical_crossentropy',\n",
        "             optimizer='adam',\n",
        "             metrics=['accuracy'])\n",
        "\n",
        "model2.fit(X_train, Y_train, batch_size=32,epochs=30, verbose=1,validation_data=(X_test, Y_test), )\n",
        "score = model2.evaluate(X_test, Y_test, verbose=0)\n",
        "print(score)"
      ],
      "execution_count": 14,
      "outputs": [
        {
          "output_type": "stream",
          "text": [
            "WARNING:tensorflow:From /usr/local/lib/python3.6/dist-packages/tensorflow/python/framework/op_def_library.py:263: colocate_with (from tensorflow.python.framework.ops) is deprecated and will be removed in a future version.\n",
            "Instructions for updating:\n",
            "Colocations handled automatically by placer.\n"
          ],
          "name": "stdout"
        },
        {
          "output_type": "stream",
          "text": [
            "/usr/local/lib/python3.6/dist-packages/ipykernel_launcher.py:5: UserWarning: Update your `Conv2D` call to the Keras 2 API: `Conv2D(10, (3, 3), activation=\"relu\", input_shape=(28, 28, 1..., use_bias=False)`\n",
            "  \"\"\"\n"
          ],
          "name": "stderr"
        },
        {
          "output_type": "stream",
          "text": [
            "WARNING:tensorflow:From /usr/local/lib/python3.6/dist-packages/keras/backend/tensorflow_backend.py:3445: calling dropout (from tensorflow.python.ops.nn_ops) with keep_prob is deprecated and will be removed in a future version.\n",
            "Instructions for updating:\n",
            "Please use `rate` instead of `keep_prob`. Rate should be set to `rate = 1 - keep_prob`.\n",
            "_________________________________________________________________\n",
            "Layer (type)                 Output Shape              Param #   \n",
            "=================================================================\n",
            "conv2d_1 (Conv2D)            (None, 26, 26, 10)        90        \n",
            "_________________________________________________________________\n",
            "batch_normalization_1 (Batch (None, 26, 26, 10)        40        \n",
            "_________________________________________________________________\n",
            "conv2d_2 (Conv2D)            (None, 24, 24, 18)        1620      \n",
            "_________________________________________________________________\n",
            "batch_normalization_2 (Batch (None, 24, 24, 18)        72        \n",
            "_________________________________________________________________\n",
            "conv2d_3 (Conv2D)            (None, 22, 22, 18)        2916      \n",
            "_________________________________________________________________\n",
            "batch_normalization_3 (Batch (None, 22, 22, 18)        72        \n",
            "_________________________________________________________________\n",
            "dropout_1 (Dropout)          (None, 22, 22, 18)        0         \n",
            "_________________________________________________________________\n",
            "max_pooling2d_1 (MaxPooling2 (None, 11, 11, 18)        0         \n",
            "_________________________________________________________________\n",
            "conv2d_4 (Conv2D)            (None, 11, 11, 10)        180       \n",
            "_________________________________________________________________\n",
            "batch_normalization_4 (Batch (None, 11, 11, 10)        40        \n",
            "_________________________________________________________________\n",
            "conv2d_5 (Conv2D)            (None, 9, 9, 18)          1620      \n",
            "_________________________________________________________________\n",
            "batch_normalization_5 (Batch (None, 9, 9, 18)          72        \n",
            "_________________________________________________________________\n",
            "conv2d_6 (Conv2D)            (None, 7, 7, 18)          2916      \n",
            "_________________________________________________________________\n",
            "dropout_2 (Dropout)          (None, 7, 7, 18)          0         \n",
            "_________________________________________________________________\n",
            "batch_normalization_6 (Batch (None, 7, 7, 18)          72        \n",
            "_________________________________________________________________\n",
            "conv2d_7 (Conv2D)            (None, 7, 7, 10)          180       \n",
            "_________________________________________________________________\n",
            "batch_normalization_7 (Batch (None, 7, 7, 10)          40        \n",
            "_________________________________________________________________\n",
            "conv2d_8 (Conv2D)            (None, 1, 1, 10)          4910      \n",
            "_________________________________________________________________\n",
            "flatten_1 (Flatten)          (None, 10)                0         \n",
            "_________________________________________________________________\n",
            "activation_1 (Activation)    (None, 10)                0         \n",
            "=================================================================\n",
            "Total params: 14,840\n",
            "Trainable params: 14,636\n",
            "Non-trainable params: 204\n",
            "_________________________________________________________________\n",
            "WARNING:tensorflow:From /usr/local/lib/python3.6/dist-packages/tensorflow/python/ops/math_ops.py:3066: to_int32 (from tensorflow.python.ops.math_ops) is deprecated and will be removed in a future version.\n",
            "Instructions for updating:\n",
            "Use tf.cast instead.\n",
            "Train on 60000 samples, validate on 10000 samples\n",
            "Epoch 1/30\n",
            "60000/60000 [==============================] - 26s 436us/step - loss: 0.1580 - acc: 0.9512 - val_loss: 0.1755 - val_acc: 0.9419\n",
            "Epoch 2/30\n",
            "60000/60000 [==============================] - 21s 351us/step - loss: 0.0553 - acc: 0.9824 - val_loss: 0.1631 - val_acc: 0.9408\n",
            "Epoch 3/30\n",
            "60000/60000 [==============================] - 23s 377us/step - loss: 0.0459 - acc: 0.9855 - val_loss: 0.0348 - val_acc: 0.9897\n",
            "Epoch 4/30\n",
            "60000/60000 [==============================] - 22s 361us/step - loss: 0.0397 - acc: 0.9873 - val_loss: 0.0434 - val_acc: 0.9860\n",
            "Epoch 5/30\n",
            "60000/60000 [==============================] - 22s 363us/step - loss: 0.0369 - acc: 0.9886 - val_loss: 0.0376 - val_acc: 0.9863\n",
            "Epoch 6/30\n",
            "60000/60000 [==============================] - 22s 364us/step - loss: 0.0316 - acc: 0.9897 - val_loss: 0.0304 - val_acc: 0.9905\n",
            "Epoch 7/30\n",
            "60000/60000 [==============================] - 21s 352us/step - loss: 0.0300 - acc: 0.9900 - val_loss: 0.0256 - val_acc: 0.9909\n",
            "Epoch 8/30\n",
            "60000/60000 [==============================] - 22s 374us/step - loss: 0.0265 - acc: 0.9919 - val_loss: 0.0291 - val_acc: 0.9902\n",
            "Epoch 9/30\n",
            "60000/60000 [==============================] - 21s 350us/step - loss: 0.0247 - acc: 0.9919 - val_loss: 0.0348 - val_acc: 0.9885\n",
            "Epoch 10/30\n",
            "60000/60000 [==============================] - 21s 350us/step - loss: 0.0251 - acc: 0.9922 - val_loss: 0.0276 - val_acc: 0.9912\n",
            "Epoch 11/30\n",
            "60000/60000 [==============================] - 21s 353us/step - loss: 0.0220 - acc: 0.9931 - val_loss: 0.0262 - val_acc: 0.9919\n",
            "Epoch 12/30\n",
            "60000/60000 [==============================] - 22s 374us/step - loss: 0.0223 - acc: 0.9929 - val_loss: 0.0245 - val_acc: 0.9923\n",
            "Epoch 13/30\n",
            "60000/60000 [==============================] - 21s 350us/step - loss: 0.0199 - acc: 0.9933 - val_loss: 0.0256 - val_acc: 0.9918\n",
            "Epoch 14/30\n",
            "60000/60000 [==============================] - 21s 352us/step - loss: 0.0195 - acc: 0.9939 - val_loss: 0.0270 - val_acc: 0.9909\n",
            "Epoch 15/30\n",
            "60000/60000 [==============================] - 21s 352us/step - loss: 0.0178 - acc: 0.9940 - val_loss: 0.0266 - val_acc: 0.9923\n",
            "Epoch 16/30\n",
            "60000/60000 [==============================] - 23s 380us/step - loss: 0.0172 - acc: 0.9942 - val_loss: 0.0241 - val_acc: 0.9921\n",
            "Epoch 17/30\n",
            "60000/60000 [==============================] - 22s 369us/step - loss: 0.0179 - acc: 0.9941 - val_loss: 0.0257 - val_acc: 0.9921\n",
            "Epoch 18/30\n",
            "60000/60000 [==============================] - 22s 370us/step - loss: 0.0161 - acc: 0.9947 - val_loss: 0.0570 - val_acc: 0.9824\n",
            "Epoch 19/30\n",
            "60000/60000 [==============================] - 22s 372us/step - loss: 0.0155 - acc: 0.9948 - val_loss: 0.0248 - val_acc: 0.9920\n",
            "Epoch 20/30\n",
            "60000/60000 [==============================] - 22s 370us/step - loss: 0.0154 - acc: 0.9948 - val_loss: 0.0290 - val_acc: 0.9913\n",
            "Epoch 21/30\n",
            "60000/60000 [==============================] - 21s 354us/step - loss: 0.0135 - acc: 0.9956 - val_loss: 0.0272 - val_acc: 0.9916\n",
            "Epoch 22/30\n",
            "60000/60000 [==============================] - 21s 354us/step - loss: 0.0141 - acc: 0.9953 - val_loss: 0.0264 - val_acc: 0.9922\n",
            "Epoch 23/30\n",
            "60000/60000 [==============================] - 22s 374us/step - loss: 0.0132 - acc: 0.9954 - val_loss: 0.0314 - val_acc: 0.9919\n",
            "Epoch 24/30\n",
            "60000/60000 [==============================] - 21s 353us/step - loss: 0.0140 - acc: 0.9955 - val_loss: 0.0315 - val_acc: 0.9918\n",
            "Epoch 25/30\n",
            "60000/60000 [==============================] - 21s 354us/step - loss: 0.0120 - acc: 0.9960 - val_loss: 0.0360 - val_acc: 0.9899\n",
            "Epoch 26/30\n",
            "60000/60000 [==============================] - 22s 360us/step - loss: 0.0124 - acc: 0.9961 - val_loss: 0.0371 - val_acc: 0.9899\n",
            "Epoch 27/30\n",
            "60000/60000 [==============================] - 23s 379us/step - loss: 0.0123 - acc: 0.9959 - val_loss: 0.0334 - val_acc: 0.9914\n",
            "Epoch 28/30\n",
            "60000/60000 [==============================] - 21s 353us/step - loss: 0.0113 - acc: 0.9966 - val_loss: 0.0253 - val_acc: 0.9925\n",
            "Epoch 29/30\n",
            "60000/60000 [==============================] - 21s 355us/step - loss: 0.0111 - acc: 0.9965 - val_loss: 0.0274 - val_acc: 0.9924\n",
            "Epoch 30/30\n",
            "60000/60000 [==============================] - 22s 364us/step - loss: 0.0117 - acc: 0.9959 - val_loss: 0.0290 - val_acc: 0.9922\n",
            "[0.029010116837079842, 0.9922]\n"
          ],
          "name": "stdout"
        }
      ]
    }
  ]
}