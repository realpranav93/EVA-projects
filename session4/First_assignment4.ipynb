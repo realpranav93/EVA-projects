{
  "nbformat": 4,
  "nbformat_minor": 0,
  "metadata": {
    "colab": {
      "name": "First_assignment4.ipynb",
      "version": "0.3.2",
      "provenance": [],
      "collapsed_sections": [],
      "include_colab_link": true
    },
    "kernelspec": {
      "name": "python3",
      "display_name": "Python 3"
    },
    "accelerator": "GPU"
  },
  "cells": [
    {
      "cell_type": "markdown",
      "metadata": {
        "id": "view-in-github",
        "colab_type": "text"
      },
      "source": [
        "<a href=\"https://colab.research.google.com/github/realpranav93/EVA-projects/blob/master/session4/First_assignment4.ipynb\" target=\"_parent\"><img src=\"https://colab.research.google.com/assets/colab-badge.svg\" alt=\"Open In Colab\"/></a>"
      ]
    },
    {
      "cell_type": "markdown",
      "metadata": {
        "id": "uA9ntykJ7krh",
        "colab_type": "text"
      },
      "source": [
        "### HEADER\n",
        "\n",
        "---\n",
        "This iteration has the base vanilla model and my First Iteration\n",
        "\n",
        "\n",
        "---\n",
        "**Vanilla model:** \n",
        "- Parameters:  17,200\n",
        "- Epoch: 20\n",
        "- Batch size: 32 \n",
        "- validation accuracy: 99.13%\n",
        "\n",
        "**First Iteration model:** \n",
        "- Parameters:  11,750\n",
        "- Epoch: 20\n",
        "- Batch size: 32 \n",
        "- Changes: Decreasing parameters by removing bias and changing number of kernels, Batch Normalization is added\n",
        "- Validation accuracy: 99.24%\n"
      ]
    },
    {
      "cell_type": "code",
      "metadata": {
        "colab_type": "code",
        "id": "IPHyGpku5zfm",
        "colab": {},
        "cellView": "form"
      },
      "source": [
        "#@title\n",
        "# https://keras.io/\n",
        "!pip install -q keras\n",
        "import keras"
      ],
      "execution_count": 0,
      "outputs": []
    },
    {
      "cell_type": "code",
      "metadata": {
        "colab_type": "code",
        "id": "2vVVoMsj5zfJ",
        "colab": {},
        "cellView": "form"
      },
      "source": [
        "#@title\n",
        "import numpy as np\n",
        "\n",
        "from keras.models import Sequential\n",
        "from keras.layers import Dense, Dropout, Activation, Flatten, Add\n",
        "from keras.layers import Convolution2D, MaxPooling2D\n",
        "from keras.utils import np_utils\n",
        "\n",
        "from keras.datasets import mnist"
      ],
      "execution_count": 0,
      "outputs": []
    },
    {
      "cell_type": "code",
      "metadata": {
        "colab_type": "code",
        "id": "eQrytH1I5zeO",
        "colab": {},
        "cellView": "form"
      },
      "source": [
        "#@title\n",
        "(X_train, y_train), (X_test, y_test) = mnist.load_data()"
      ],
      "execution_count": 0,
      "outputs": []
    },
    {
      "cell_type": "code",
      "metadata": {
        "colab_type": "code",
        "id": "9ri4gpjM5zda",
        "colab": {},
        "cellView": "form"
      },
      "source": [
        "#@title\n",
        "print (X_train.shape)\n",
        "from matplotlib import pyplot as plt\n",
        "%matplotlib inline\n",
        "plt.imshow(X_train[0])"
      ],
      "execution_count": 0,
      "outputs": []
    },
    {
      "cell_type": "code",
      "metadata": {
        "colab_type": "code",
        "id": "sGRmkJgB5zc7",
        "colab": {},
        "cellView": "form"
      },
      "source": [
        "#@title\n",
        "X_train = X_train.reshape(X_train.shape[0], 28, 28,1)\n",
        "X_test = X_test.reshape(X_test.shape[0], 28, 28,1)"
      ],
      "execution_count": 0,
      "outputs": []
    },
    {
      "cell_type": "code",
      "metadata": {
        "colab_type": "code",
        "id": "yZDdhMT75zcX",
        "colab": {},
        "cellView": "form"
      },
      "source": [
        "#@title\n",
        "X_train = X_train.astype('float32')\n",
        "X_test = X_test.astype('float32')\n",
        "X_train /= 255\n",
        "X_test /= 255"
      ],
      "execution_count": 0,
      "outputs": []
    },
    {
      "cell_type": "code",
      "metadata": {
        "colab_type": "code",
        "id": "BEoF2Iy-5zbn",
        "colab": {},
        "cellView": "form"
      },
      "source": [
        "#@title\n",
        "y_train[:10]"
      ],
      "execution_count": 0,
      "outputs": []
    },
    {
      "cell_type": "code",
      "metadata": {
        "colab_type": "code",
        "id": "6oL56Ty55zbE",
        "colab": {},
        "cellView": "form"
      },
      "source": [
        "#@title\n",
        "# Convert 1-dimensional class arrays to 10-dimensional class matrices\n",
        "Y_train = np_utils.to_categorical(y_train, 10)\n",
        "Y_test = np_utils.to_categorical(y_test, 10)"
      ],
      "execution_count": 0,
      "outputs": []
    },
    {
      "cell_type": "code",
      "metadata": {
        "colab_type": "code",
        "id": "pkrigNFr5zaJ",
        "colab": {},
        "cellView": "form"
      },
      "source": [
        "#@title\n",
        "Y_train[:10]\n"
      ],
      "execution_count": 0,
      "outputs": []
    },
    {
      "cell_type": "markdown",
      "metadata": {
        "id": "8UVGktFcQtSB",
        "colab_type": "text"
      },
      "source": [
        "**BASE MODEL ARCHITECTURE**"
      ]
    },
    {
      "cell_type": "code",
      "metadata": {
        "id": "osKqT73Q9JJB",
        "colab_type": "code",
        "outputId": "ddaf5958-4450-49cf-8e24-152c1b01b7c2",
        "cellView": "code",
        "colab": {
          "base_uri": "https://localhost:8080/",
          "height": 1278
        }
      },
      "source": [
        "from keras.layers import Activation\n",
        "model2 = Sequential()\n",
        "\n",
        "model2.add(Convolution2D(8, 3, 3, activation='relu', input_shape=(28,28,1))) #26\n",
        "model2.add(Convolution2D(16, 3, activation='relu')) #24\n",
        "model2.add(Convolution2D(32, 3, activation='relu')) #22\n",
        "model2.add(MaxPooling2D(pool_size=(2, 2))) #11\n",
        "model2.add(Convolution2D(8,1, activation='relu')) #11\n",
        "\n",
        "model2.add(Convolution2D(16, 3, activation='relu')) #9\n",
        "model2.add(Convolution2D(32, 3, activation='relu')) #7\n",
        "\n",
        "model2.add(Convolution2D(10,1, activation='relu'))#7\n",
        "model2.add(Convolution2D(10,7)) #1\n",
        "\n",
        "\n",
        "model2.add(Flatten())\n",
        "model2.add(Activation('softmax'))\n",
        "model2.summary()\n",
        "model2.compile(loss='categorical_crossentropy',\n",
        "             optimizer='adam',\n",
        "             metrics=['accuracy'])\n",
        "\n",
        "model2.fit(X_train, Y_train, batch_size=32,epochs=20, verbose=1,validation_data=(X_test, Y_test), )\n",
        "score = model2.evaluate(X_test, Y_test, verbose=0)\n",
        "print(score)"
      ],
      "execution_count": 0,
      "outputs": [
        {
          "output_type": "stream",
          "text": [
            "/usr/local/lib/python3.6/dist-packages/ipykernel_launcher.py:4: UserWarning: Update your `Conv2D` call to the Keras 2 API: `Conv2D(8, (3, 3), activation=\"relu\", input_shape=(28, 28, 1...)`\n",
            "  after removing the cwd from sys.path.\n"
          ],
          "name": "stderr"
        },
        {
          "output_type": "stream",
          "text": [
            "_________________________________________________________________\n",
            "Layer (type)                 Output Shape              Param #   \n",
            "=================================================================\n",
            "conv2d_48 (Conv2D)           (None, 26, 26, 8)         80        \n",
            "_________________________________________________________________\n",
            "conv2d_49 (Conv2D)           (None, 24, 24, 16)        1168      \n",
            "_________________________________________________________________\n",
            "conv2d_50 (Conv2D)           (None, 22, 22, 32)        4640      \n",
            "_________________________________________________________________\n",
            "max_pooling2d_6 (MaxPooling2 (None, 11, 11, 32)        0         \n",
            "_________________________________________________________________\n",
            "conv2d_51 (Conv2D)           (None, 11, 11, 8)         264       \n",
            "_________________________________________________________________\n",
            "conv2d_52 (Conv2D)           (None, 9, 9, 16)          1168      \n",
            "_________________________________________________________________\n",
            "conv2d_53 (Conv2D)           (None, 7, 7, 32)          4640      \n",
            "_________________________________________________________________\n",
            "conv2d_54 (Conv2D)           (None, 7, 7, 10)          330       \n",
            "_________________________________________________________________\n",
            "conv2d_55 (Conv2D)           (None, 1, 1, 10)          4910      \n",
            "_________________________________________________________________\n",
            "flatten_8 (Flatten)          (None, 10)                0         \n",
            "_________________________________________________________________\n",
            "activation_8 (Activation)    (None, 10)                0         \n",
            "=================================================================\n",
            "Total params: 17,200\n",
            "Trainable params: 17,200\n",
            "Non-trainable params: 0\n",
            "_________________________________________________________________\n",
            "Train on 60000 samples, validate on 10000 samples\n",
            "Epoch 1/20\n",
            "60000/60000 [==============================] - 12s 195us/step - loss: 0.1970 - acc: 0.9410 - val_loss: 0.0740 - val_acc: 0.9767\n",
            "Epoch 2/20\n",
            "60000/60000 [==============================] - 11s 180us/step - loss: 0.0718 - acc: 0.9780 - val_loss: 0.0491 - val_acc: 0.9846\n",
            "Epoch 3/20\n",
            "60000/60000 [==============================] - 11s 180us/step - loss: 0.0536 - acc: 0.9831 - val_loss: 0.0370 - val_acc: 0.9887\n",
            "Epoch 4/20\n",
            "60000/60000 [==============================] - 11s 181us/step - loss: 0.0451 - acc: 0.9865 - val_loss: 0.0342 - val_acc: 0.9891\n",
            "Epoch 5/20\n",
            "60000/60000 [==============================] - 11s 180us/step - loss: 0.0364 - acc: 0.9884 - val_loss: 0.0304 - val_acc: 0.9898\n",
            "Epoch 6/20\n",
            "60000/60000 [==============================] - 11s 180us/step - loss: 0.0322 - acc: 0.9899 - val_loss: 0.0336 - val_acc: 0.9893\n",
            "Epoch 7/20\n",
            "60000/60000 [==============================] - 12s 203us/step - loss: 0.0276 - acc: 0.9913 - val_loss: 0.0383 - val_acc: 0.9882\n",
            "Epoch 8/20\n",
            "60000/60000 [==============================] - 11s 180us/step - loss: 0.0247 - acc: 0.9922 - val_loss: 0.0344 - val_acc: 0.9894\n",
            "Epoch 9/20\n",
            "60000/60000 [==============================] - 11s 181us/step - loss: 0.0207 - acc: 0.9934 - val_loss: 0.0317 - val_acc: 0.9904\n",
            "Epoch 10/20\n",
            "60000/60000 [==============================] - 11s 180us/step - loss: 0.0199 - acc: 0.9937 - val_loss: 0.0344 - val_acc: 0.9905\n",
            "Epoch 11/20\n",
            "60000/60000 [==============================] - 11s 180us/step - loss: 0.0176 - acc: 0.9943 - val_loss: 0.0355 - val_acc: 0.9894\n",
            "Epoch 12/20\n",
            "60000/60000 [==============================] - 11s 181us/step - loss: 0.0165 - acc: 0.9946 - val_loss: 0.0361 - val_acc: 0.9895\n",
            "Epoch 13/20\n",
            "60000/60000 [==============================] - 11s 180us/step - loss: 0.0158 - acc: 0.9946 - val_loss: 0.0299 - val_acc: 0.9912\n",
            "Epoch 14/20\n",
            "60000/60000 [==============================] - 12s 194us/step - loss: 0.0137 - acc: 0.9954 - val_loss: 0.0508 - val_acc: 0.9885\n",
            "Epoch 15/20\n",
            "60000/60000 [==============================] - 11s 190us/step - loss: 0.0126 - acc: 0.9958 - val_loss: 0.0361 - val_acc: 0.9910\n",
            "Epoch 16/20\n",
            "60000/60000 [==============================] - 11s 180us/step - loss: 0.0123 - acc: 0.9958 - val_loss: 0.0544 - val_acc: 0.9850\n",
            "Epoch 17/20\n",
            "60000/60000 [==============================] - 11s 181us/step - loss: 0.0111 - acc: 0.9962 - val_loss: 0.0356 - val_acc: 0.9913\n",
            "Epoch 18/20\n",
            "60000/60000 [==============================] - 11s 180us/step - loss: 0.0111 - acc: 0.9966 - val_loss: 0.0431 - val_acc: 0.9892\n",
            "Epoch 19/20\n",
            "60000/60000 [==============================] - 11s 180us/step - loss: 0.0093 - acc: 0.9970 - val_loss: 0.0429 - val_acc: 0.9903\n",
            "Epoch 20/20\n",
            "60000/60000 [==============================] - 11s 181us/step - loss: 0.0099 - acc: 0.9967 - val_loss: 0.0472 - val_acc: 0.9894\n",
            "[0.04715158506041239, 0.9894]\n"
          ],
          "name": "stdout"
        }
      ]
    },
    {
      "cell_type": "markdown",
      "metadata": {
        "id": "wdVoh2toRSeM",
        "colab_type": "text"
      },
      "source": [
        "**With the base model(model2) we have acheived a max validation accuracy of 99.12% with 17,200 parameters. "
      ]
    },
    {
      "cell_type": "markdown",
      "metadata": {
        "id": "0pn4VYDkU-fs",
        "colab_type": "text"
      },
      "source": [
        "**FIRST ITERATION**\n",
        "\n",
        "---\n",
        "\n",
        "For this iteration we would be decreasing parameters by removing bias and taking less number of kernels, batch normalization**\n",
        "\n",
        "---\n",
        "\n"
      ]
    },
    {
      "cell_type": "code",
      "metadata": {
        "id": "AX6d6NUYR0Qd",
        "colab_type": "code",
        "outputId": "5a24cdc1-8b5b-4513-83e8-9d4b06dbe5fd",
        "colab": {
          "base_uri": "https://localhost:8080/",
          "height": 1516
        }
      },
      "source": [
        "from keras.layers import Activation\n",
        "from keras.layers import BatchNormalization\n",
        "model2 = Sequential()\n",
        "\n",
        "model2.add(Convolution2D(8, 3, 3, activation='relu', input_shape=(28,28,1),use_bias = False)) #26\n",
        "model2.add(BatchNormalization())\n",
        "model2.add(Convolution2D(12, 3, activation='relu',use_bias = False)) #24\n",
        "model2.add(BatchNormalization())\n",
        "model2.add(Convolution2D(20, 3, activation='relu',use_bias = False)) #22\n",
        "model2.add(BatchNormalization())\n",
        "model2.add(MaxPooling2D(pool_size=(2, 2))) #11\n",
        "model2.add(Convolution2D(8,1, activation='relu',use_bias = False)) #11\n",
        "model2.add(BatchNormalization())\n",
        "model2.add(Convolution2D(12, 3, activation='relu',use_bias = False)) #9\n",
        "model2.add(BatchNormalization())\n",
        "model2.add(Convolution2D(20, 3, activation='relu',use_bias = False)) #7\n",
        "model2.add(BatchNormalization())\n",
        "model2.add(Convolution2D(10,1, activation='relu',use_bias = False))#7\n",
        "model2.add(BatchNormalization())\n",
        "model2.add(Convolution2D(10,7)) #1\n",
        "\n",
        "\n",
        "model2.add(Flatten())\n",
        "model2.add(Activation('softmax'))\n",
        "model2.summary()\n",
        "model2.compile(loss='categorical_crossentropy',\n",
        "             optimizer='adam',\n",
        "             metrics=['accuracy'])\n",
        "\n",
        "model2.fit(X_train, Y_train, batch_size=32,epochs=20, verbose=1,validation_data=(X_test, Y_test), )\n",
        "score = model2.evaluate(X_test, Y_test, verbose=0)\n",
        "print(score)"
      ],
      "execution_count": 0,
      "outputs": [
        {
          "output_type": "stream",
          "text": [
            "/usr/local/lib/python3.6/dist-packages/ipykernel_launcher.py:5: UserWarning: Update your `Conv2D` call to the Keras 2 API: `Conv2D(8, (3, 3), activation=\"relu\", input_shape=(28, 28, 1..., use_bias=False)`\n",
            "  \"\"\"\n"
          ],
          "name": "stderr"
        },
        {
          "output_type": "stream",
          "text": [
            "_________________________________________________________________\n",
            "Layer (type)                 Output Shape              Param #   \n",
            "=================================================================\n",
            "conv2d_88 (Conv2D)           (None, 26, 26, 8)         72        \n",
            "_________________________________________________________________\n",
            "batch_normalization_36 (Batc (None, 26, 26, 8)         32        \n",
            "_________________________________________________________________\n",
            "conv2d_89 (Conv2D)           (None, 24, 24, 12)        864       \n",
            "_________________________________________________________________\n",
            "batch_normalization_37 (Batc (None, 24, 24, 12)        48        \n",
            "_________________________________________________________________\n",
            "conv2d_90 (Conv2D)           (None, 22, 22, 20)        2160      \n",
            "_________________________________________________________________\n",
            "batch_normalization_38 (Batc (None, 22, 22, 20)        80        \n",
            "_________________________________________________________________\n",
            "max_pooling2d_11 (MaxPooling (None, 11, 11, 20)        0         \n",
            "_________________________________________________________________\n",
            "conv2d_91 (Conv2D)           (None, 11, 11, 8)         160       \n",
            "_________________________________________________________________\n",
            "batch_normalization_39 (Batc (None, 11, 11, 8)         32        \n",
            "_________________________________________________________________\n",
            "conv2d_92 (Conv2D)           (None, 9, 9, 12)          864       \n",
            "_________________________________________________________________\n",
            "batch_normalization_40 (Batc (None, 9, 9, 12)          48        \n",
            "_________________________________________________________________\n",
            "conv2d_93 (Conv2D)           (None, 7, 7, 20)          2160      \n",
            "_________________________________________________________________\n",
            "batch_normalization_41 (Batc (None, 7, 7, 20)          80        \n",
            "_________________________________________________________________\n",
            "conv2d_94 (Conv2D)           (None, 7, 7, 10)          200       \n",
            "_________________________________________________________________\n",
            "batch_normalization_42 (Batc (None, 7, 7, 10)          40        \n",
            "_________________________________________________________________\n",
            "conv2d_95 (Conv2D)           (None, 1, 1, 10)          4910      \n",
            "_________________________________________________________________\n",
            "flatten_13 (Flatten)         (None, 10)                0         \n",
            "_________________________________________________________________\n",
            "activation_13 (Activation)   (None, 10)                0         \n",
            "=================================================================\n",
            "Total params: 11,750\n",
            "Trainable params: 11,570\n",
            "Non-trainable params: 180\n",
            "_________________________________________________________________\n",
            "Train on 60000 samples, validate on 10000 samples\n",
            "Epoch 1/20\n",
            "60000/60000 [==============================] - 22s 362us/step - loss: 0.1442 - acc: 0.9551 - val_loss: 0.0549 - val_acc: 0.9841\n",
            "Epoch 2/20\n",
            "60000/60000 [==============================] - 18s 304us/step - loss: 0.0487 - acc: 0.9849 - val_loss: 0.0359 - val_acc: 0.9889\n",
            "Epoch 3/20\n",
            "60000/60000 [==============================] - 18s 304us/step - loss: 0.0386 - acc: 0.9879 - val_loss: 0.0365 - val_acc: 0.9885\n",
            "Epoch 4/20\n",
            "60000/60000 [==============================] - 18s 304us/step - loss: 0.0321 - acc: 0.9898 - val_loss: 0.0344 - val_acc: 0.9894\n",
            "Epoch 5/20\n",
            "60000/60000 [==============================] - 20s 326us/step - loss: 0.0284 - acc: 0.9910 - val_loss: 0.0461 - val_acc: 0.9866\n",
            "Epoch 6/20\n",
            "60000/60000 [==============================] - 18s 304us/step - loss: 0.0240 - acc: 0.9922 - val_loss: 0.0387 - val_acc: 0.9892\n",
            "Epoch 7/20\n",
            "60000/60000 [==============================] - 18s 304us/step - loss: 0.0219 - acc: 0.9926 - val_loss: 0.0357 - val_acc: 0.9899\n",
            "Epoch 8/20\n",
            "60000/60000 [==============================] - 18s 304us/step - loss: 0.0206 - acc: 0.9932 - val_loss: 0.0423 - val_acc: 0.9880\n",
            "Epoch 9/20\n",
            "60000/60000 [==============================] - 19s 313us/step - loss: 0.0168 - acc: 0.9943 - val_loss: 0.0384 - val_acc: 0.9901\n",
            "Epoch 10/20\n",
            "60000/60000 [==============================] - 19s 318us/step - loss: 0.0163 - acc: 0.9943 - val_loss: 0.0326 - val_acc: 0.9903\n",
            "Epoch 11/20\n",
            "60000/60000 [==============================] - 19s 317us/step - loss: 0.0136 - acc: 0.9955 - val_loss: 0.0400 - val_acc: 0.9894\n",
            "Epoch 12/20\n",
            "60000/60000 [==============================] - 19s 312us/step - loss: 0.0126 - acc: 0.9957 - val_loss: 0.0353 - val_acc: 0.9912\n",
            "Epoch 13/20\n",
            "60000/60000 [==============================] - 19s 325us/step - loss: 0.0124 - acc: 0.9960 - val_loss: 0.0411 - val_acc: 0.9885\n",
            "Epoch 14/20\n",
            "60000/60000 [==============================] - 20s 327us/step - loss: 0.0104 - acc: 0.9966 - val_loss: 0.0452 - val_acc: 0.9894\n",
            "Epoch 15/20\n",
            "60000/60000 [==============================] - 18s 304us/step - loss: 0.0113 - acc: 0.9961 - val_loss: 0.0407 - val_acc: 0.9893\n",
            "Epoch 16/20\n",
            "60000/60000 [==============================] - 18s 303us/step - loss: 0.0095 - acc: 0.9968 - val_loss: 0.0360 - val_acc: 0.9924\n",
            "Epoch 17/20\n",
            "60000/60000 [==============================] - 18s 304us/step - loss: 0.0085 - acc: 0.9974 - val_loss: 0.0432 - val_acc: 0.9900\n",
            "Epoch 18/20\n",
            "60000/60000 [==============================] - 20s 327us/step - loss: 0.0091 - acc: 0.9970 - val_loss: 0.0366 - val_acc: 0.9909\n",
            "Epoch 19/20\n",
            "60000/60000 [==============================] - 18s 304us/step - loss: 0.0083 - acc: 0.9971 - val_loss: 0.0394 - val_acc: 0.9901\n",
            "Epoch 20/20\n",
            "60000/60000 [==============================] - 18s 304us/step - loss: 0.0074 - acc: 0.9975 - val_loss: 0.0389 - val_acc: 0.9907\n",
            "[0.0388926983676336, 0.9907]\n"
          ],
          "name": "stdout"
        }
      ]
    }
  ]
}