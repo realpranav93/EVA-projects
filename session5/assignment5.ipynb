{
  "nbformat": 4,
  "nbformat_minor": 0,
  "metadata": {
    "colab": {
      "name": "assignment5.ipynb",
      "version": "0.3.2",
      "provenance": [],
      "collapsed_sections": [],
      "include_colab_link": true
    },
    "kernelspec": {
      "name": "python3",
      "display_name": "Python 3"
    },
    "accelerator": "GPU"
  },
  "cells": [
    {
      "cell_type": "markdown",
      "metadata": {
        "id": "view-in-github",
        "colab_type": "text"
      },
      "source": [
        "<a href=\"https://colab.research.google.com/github/realpranav93/EVA-projects/blob/master/session5/assignment5.ipynb\" target=\"_parent\"><img src=\"https://colab.research.google.com/assets/colab-badge.svg\" alt=\"Open In Colab\"/></a>"
      ]
    },
    {
      "cell_type": "code",
      "metadata": {
        "id": "3m3w1Cw49Zkt",
        "colab_type": "code",
        "cellView": "both",
        "colab": {}
      },
      "source": [
        "#@title\n",
        "# https://keras.io/\n",
        "!pip install -q keras\n",
        "import keras"
      ],
      "execution_count": 0,
      "outputs": []
    },
    {
      "cell_type": "code",
      "metadata": {
        "id": "Eso6UHE080D4",
        "colab_type": "code",
        "cellView": "both",
        "colab": {}
      },
      "source": [
        "#@title\n",
        "import numpy as np\n",
        "\n",
        "from keras.models import Sequential\n",
        "from keras.layers import Dense, Dropout, Activation, Flatten, Add\n",
        "from keras.layers import Convolution2D, MaxPooling2D\n",
        "from keras.utils import np_utils\n",
        "\n",
        "from keras.datasets import mnist"
      ],
      "execution_count": 0,
      "outputs": []
    },
    {
      "cell_type": "code",
      "metadata": {
        "id": "7eRM0QWN83PV",
        "colab_type": "code",
        "cellView": "both",
        "outputId": "06a77540-6f5b-4454-a80c-68b48548eed1",
        "colab": {
          "base_uri": "https://localhost:8080/",
          "height": 51
        }
      },
      "source": [
        "#@title\n",
        "(X_train, y_train), (X_test, y_test) = mnist.load_data()"
      ],
      "execution_count": 5,
      "outputs": [
        {
          "output_type": "stream",
          "text": [
            "Downloading data from https://s3.amazonaws.com/img-datasets/mnist.npz\n",
            "11493376/11490434 [==============================] - 1s 0us/step\n"
          ],
          "name": "stdout"
        }
      ]
    },
    {
      "cell_type": "code",
      "metadata": {
        "id": "4a4Be72j8-ZC",
        "colab_type": "code",
        "cellView": "both",
        "outputId": "1cbb2d06-6714-4511-9ba8-3649d58b093d",
        "colab": {
          "base_uri": "https://localhost:8080/",
          "height": 303
        }
      },
      "source": [
        "#@title\n",
        "print (X_train.shape)\n",
        "from matplotlib import pyplot as plt\n",
        "%matplotlib inline\n",
        "plt.imshow(X_train[0])"
      ],
      "execution_count": 6,
      "outputs": [
        {
          "output_type": "stream",
          "text": [
            "(60000, 28, 28)\n"
          ],
          "name": "stdout"
        },
        {
          "output_type": "execute_result",
          "data": {
            "text/plain": [
              "<matplotlib.image.AxesImage at 0x7fa3fc5a32b0>"
            ]
          },
          "metadata": {
            "tags": []
          },
          "execution_count": 6
        },
        {
          "output_type": "display_data",
          "data": {
            "image/png": "[encoded data removed]",
            "text/plain": [
              "<Figure size 432x288 with 1 Axes>"
            ]
          },
          "metadata": {
            "tags": []
          }
        }
      ]
    },
    {
      "cell_type": "code",
      "metadata": {
        "id": "dkmprriw9AnZ",
        "colab_type": "code",
        "cellView": "both",
        "colab": {}
      },
      "source": [
        "#@title\n",
        "X_train = X_train.reshape(X_train.shape[0], 28, 28,1)\n",
        "X_test = X_test.reshape(X_test.shape[0], 28, 28,1)"
      ],
      "execution_count": 0,
      "outputs": []
    },
    {
      "cell_type": "code",
      "metadata": {
        "id": "X2m4YS4E9CRh",
        "colab_type": "code",
        "cellView": "both",
        "colab": {}
      },
      "source": [
        "#@title\n",
        "X_train = X_train.astype('float32')\n",
        "X_test = X_test.astype('float32')\n",
        "X_train /= 255\n",
        "X_test /= 255"
      ],
      "execution_count": 0,
      "outputs": []
    },
    {
      "cell_type": "code",
      "metadata": {
        "id": "0Mn0vAYD9DvB",
        "colab_type": "code",
        "cellView": "both",
        "outputId": "4ae7c32b-f279-4a6f-e6fe-bffc72cbeda0",
        "colab": {
          "base_uri": "https://localhost:8080/",
          "height": 34
        }
      },
      "source": [
        "#@title\n",
        "y_train[:10]"
      ],
      "execution_count": 9,
      "outputs": [
        {
          "output_type": "execute_result",
          "data": {
            "text/plain": [
              "array([5, 0, 4, 1, 9, 2, 1, 3, 1, 4], dtype=uint8)"
            ]
          },
          "metadata": {
            "tags": []
          },
          "execution_count": 9
        }
      ]
    },
    {
      "cell_type": "code",
      "metadata": {
        "id": "ZG8JiXR39FHC",
        "colab_type": "code",
        "cellView": "both",
        "colab": {}
      },
      "source": [
        "#@title\n",
        "# Convert 1-dimensional class arrays to 10-dimensional class matrices\n",
        "Y_train = np_utils.to_categorical(y_train, 10)\n",
        "Y_test = np_utils.to_categorical(y_test, 10)"
      ],
      "execution_count": 0,
      "outputs": []
    },
    {
      "cell_type": "code",
      "metadata": {
        "id": "fYlFRvKS9HMB",
        "colab_type": "code",
        "cellView": "both",
        "outputId": "ca51b158-08c8-4f43-e0a2-72fba3115262",
        "colab": {
          "base_uri": "https://localhost:8080/",
          "height": 187
        }
      },
      "source": [
        "#@title\n",
        "Y_train[:10]\n"
      ],
      "execution_count": 11,
      "outputs": [
        {
          "output_type": "execute_result",
          "data": {
            "text/plain": [
              "array([[0., 0., 0., 0., 0., 1., 0., 0., 0., 0.],\n",
              "       [1., 0., 0., 0., 0., 0., 0., 0., 0., 0.],\n",
              "       [0., 0., 0., 0., 1., 0., 0., 0., 0., 0.],\n",
              "       [0., 1., 0., 0., 0., 0., 0., 0., 0., 0.],\n",
              "       [0., 0., 0., 0., 0., 0., 0., 0., 0., 1.],\n",
              "       [0., 0., 1., 0., 0., 0., 0., 0., 0., 0.],\n",
              "       [0., 1., 0., 0., 0., 0., 0., 0., 0., 0.],\n",
              "       [0., 0., 0., 1., 0., 0., 0., 0., 0., 0.],\n",
              "       [0., 1., 0., 0., 0., 0., 0., 0., 0., 0.],\n",
              "       [0., 0., 0., 0., 1., 0., 0., 0., 0., 0.]], dtype=float32)"
            ]
          },
          "metadata": {
            "tags": []
          },
          "execution_count": 11
        }
      ]
    },
    {
      "cell_type": "markdown",
      "metadata": {
        "id": "rqYOp0EHERgE",
        "colab_type": "text"
      },
      "source": [
        "Adding a Prepocess Step for Image normalization"
      ]
    },
    {
      "cell_type": "code",
      "metadata": {
        "id": "v8mPtXmdEQcu",
        "colab_type": "code",
        "colab": {}
      },
      "source": [
        "from keras.preprocessing.image import ImageDataGenerator\n",
        "image_norm = ImageDataGenerator(featurewise_center=True, featurewise_std_normalization=True)\n",
        "image_norm.fit(X_train)\n",
        "train_iterator = image_norm.flow(X_train,Y_train,batch_size = 64)\n",
        "test_iterator = image_norm.flow(X_test,Y_test,batch_size = 64)"
      ],
      "execution_count": 0,
      "outputs": []
    },
    {
      "cell_type": "markdown",
      "metadata": {
        "id": "JjMPpEaWhtCC",
        "colab_type": "text"
      },
      "source": [
        "FOURTH ITERATION FROM ASSIGNMENT4 WITH CHANGES - version2\n",
        "---\n",
        "1. Image Normalization\n",
        "2. L2 regularization\n",
        "3. Activation after BN\n",
        "4. Saving the best model\n",
        "\n",
        "---\n",
        "\n"
      ]
    },
    {
      "cell_type": "code",
      "metadata": {
        "id": "XxLUA_RK6Ez8",
        "colab_type": "code",
        "colab": {
          "base_uri": "https://localhost:8080/",
          "height": 3998
        },
        "outputId": "eaabcc2f-e2f9-40de-af86-22976240602b"
      },
      "source": [
        "from keras.layers import Activation\n",
        "from keras.layers import BatchNormalization\n",
        "from keras.optimizers import Adam\n",
        "from keras.callbacks import LearningRateScheduler,ModelCheckpoint\n",
        "from keras import regularizers\n",
        "\n",
        "\n",
        "model2 = Sequential()\n",
        "\n",
        "model2.add(Convolution2D(10, 3, 3, input_shape=(28,28,1),use_bias = False,kernel_regularizer=regularizers.l2(0.0001))) #26\n",
        "model2.add(BatchNormalization())\n",
        "model2.add(Activation('relu'))\n",
        "model2.add(Convolution2D(18, 3,use_bias = False,kernel_regularizer=regularizers.l2(0.0001))) #24\n",
        "model2.add(BatchNormalization())\n",
        "model2.add(Activation('relu'))\n",
        "model2.add(Convolution2D(18, 3,use_bias = False,kernel_regularizer=regularizers.l2(0.0001))) #22\n",
        "model2.add(BatchNormalization())\n",
        "model2.add(Activation('relu'))\n",
        "model2.add(Dropout(0.15))\n",
        "\n",
        "model2.add(MaxPooling2D(pool_size=(2, 2))) #11\n",
        "model2.add(Convolution2D(10,1,use_bias = False,kernel_regularizer=regularizers.l2(0.0001))) #11\n",
        "model2.add(BatchNormalization())\n",
        "model2.add(Activation('relu'))\n",
        "model2.add(Convolution2D(18, 3,use_bias = False,kernel_regularizer=regularizers.l2(0.0001))) #9\n",
        "model2.add(BatchNormalization())\n",
        "model2.add(Activation('relu'))\n",
        "model2.add(Convolution2D(18, 3,use_bias = False,kernel_regularizer=regularizers.l2(0.0001))) #7\n",
        "model2.add(BatchNormalization())\n",
        "model2.add(Activation('relu'))\n",
        "model2.add(Dropout(0.15))\n",
        "\n",
        "\n",
        "model2.add(Convolution2D(10,1,use_bias = False,kernel_regularizer=regularizers.l2(0.0001)))#7\n",
        "model2.add(BatchNormalization())\n",
        "model2.add(Activation('relu'))\n",
        "model2.add(Convolution2D(10,7,kernel_regularizer=regularizers.l2(0.0001))) #1\n",
        "\n",
        "\n",
        "\n",
        "\n",
        "model2.add(Flatten())\n",
        "model2.add(Activation('softmax'))\n",
        "model2.summary()\n",
        "\n",
        "\n",
        "def scheduler(epoch, lr):\n",
        "  return round(0.003 * 1/(1 + 0.319 * epoch), 10)\n",
        "\n",
        "model_path = 'model.{epoch:02d}-{val_loss:.2f}.hdf5'\n",
        "callbacks = [\n",
        "    LearningRateScheduler(scheduler, verbose=1),\n",
        "    ModelCheckpoint(model_path,\n",
        "        monitor='val_acc', \n",
        "        save_best_only=True, \n",
        "        mode='max',\n",
        "        verbose=0)\n",
        "]\n",
        "\n",
        "model2.compile(loss='categorical_crossentropy', optimizer=Adam(lr=0.003), metrics=['accuracy'])\n",
        "\n",
        "\n",
        "model2.fit_generator(train_iterator,epochs=40, verbose=1,steps_per_epoch=len(train_iterator),validation_data=test_iterator,validation_steps = len(test_iterator), callbacks=callbacks)\n",
        "#score = model2.evaluate(X_test, Y_test, verbose=0)\n",
        "#print(score)"
      ],
      "execution_count": 15,
      "outputs": [
        {
          "output_type": "stream",
          "text": [
            "WARNING:tensorflow:From /usr/local/lib/python3.6/dist-packages/tensorflow/python/framework/op_def_library.py:263: colocate_with (from tensorflow.python.framework.ops) is deprecated and will be removed in a future version.\n",
            "Instructions for updating:\n",
            "Colocations handled automatically by placer.\n"
          ],
          "name": "stdout"
        },
        {
          "output_type": "stream",
          "text": [
            "/usr/local/lib/python3.6/dist-packages/ipykernel_launcher.py:10: UserWarning: Update your `Conv2D` call to the Keras 2 API: `Conv2D(10, (3, 3), input_shape=(28, 28, 1..., use_bias=False, kernel_regularizer=<keras.reg...)`\n",
            "  # Remove the CWD from sys.path while we load stuff.\n"
          ],
          "name": "stderr"
        },
        {
          "output_type": "stream",
          "text": [
            "WARNING:tensorflow:From /usr/local/lib/python3.6/dist-packages/keras/backend/tensorflow_backend.py:3445: calling dropout (from tensorflow.python.ops.nn_ops) with keep_prob is deprecated and will be removed in a future version.\n",
            "Instructions for updating:\n",
            "Please use `rate` instead of `keep_prob`. Rate should be set to `rate = 1 - keep_prob`.\n",
            "_________________________________________________________________\n",
            "Layer (type)                 Output Shape              Param #   \n",
            "=================================================================\n",
            "conv2d_1 (Conv2D)            (None, 26, 26, 10)        90        \n",
            "_________________________________________________________________\n",
            "batch_normalization_1 (Batch (None, 26, 26, 10)        40        \n",
            "_________________________________________________________________\n",
            "activation_1 (Activation)    (None, 26, 26, 10)        0         \n",
            "_________________________________________________________________\n",
            "conv2d_2 (Conv2D)            (None, 24, 24, 18)        1620      \n",
            "_________________________________________________________________\n",
            "batch_normalization_2 (Batch (None, 24, 24, 18)        72        \n",
            "_________________________________________________________________\n",
            "activation_2 (Activation)    (None, 24, 24, 18)        0         \n",
            "_________________________________________________________________\n",
            "conv2d_3 (Conv2D)            (None, 22, 22, 18)        2916      \n",
            "_________________________________________________________________\n",
            "batch_normalization_3 (Batch (None, 22, 22, 18)        72        \n",
            "_________________________________________________________________\n",
            "activation_3 (Activation)    (None, 22, 22, 18)        0         \n",
            "_________________________________________________________________\n",
            "dropout_1 (Dropout)          (None, 22, 22, 18)        0         \n",
            "_________________________________________________________________\n",
            "max_pooling2d_1 (MaxPooling2 (None, 11, 11, 18)        0         \n",
            "_________________________________________________________________\n",
            "conv2d_4 (Conv2D)            (None, 11, 11, 10)        180       \n",
            "_________________________________________________________________\n",
            "batch_normalization_4 (Batch (None, 11, 11, 10)        40        \n",
            "_________________________________________________________________\n",
            "activation_4 (Activation)    (None, 11, 11, 10)        0         \n",
            "_________________________________________________________________\n",
            "conv2d_5 (Conv2D)            (None, 9, 9, 18)          1620      \n",
            "_________________________________________________________________\n",
            "batch_normalization_5 (Batch (None, 9, 9, 18)          72        \n",
            "_________________________________________________________________\n",
            "activation_5 (Activation)    (None, 9, 9, 18)          0         \n",
            "_________________________________________________________________\n",
            "conv2d_6 (Conv2D)            (None, 7, 7, 18)          2916      \n",
            "_________________________________________________________________\n",
            "batch_normalization_6 (Batch (None, 7, 7, 18)          72        \n",
            "_________________________________________________________________\n",
            "activation_6 (Activation)    (None, 7, 7, 18)          0         \n",
            "_________________________________________________________________\n",
            "dropout_2 (Dropout)          (None, 7, 7, 18)          0         \n",
            "_________________________________________________________________\n",
            "conv2d_7 (Conv2D)            (None, 7, 7, 10)          180       \n",
            "_________________________________________________________________\n",
            "batch_normalization_7 (Batch (None, 7, 7, 10)          40        \n",
            "_________________________________________________________________\n",
            "activation_7 (Activation)    (None, 7, 7, 10)          0         \n",
            "_________________________________________________________________\n",
            "conv2d_8 (Conv2D)            (None, 1, 1, 10)          4910      \n",
            "_________________________________________________________________\n",
            "flatten_1 (Flatten)          (None, 10)                0         \n",
            "_________________________________________________________________\n",
            "activation_8 (Activation)    (None, 10)                0         \n",
            "=================================================================\n",
            "Total params: 14,840\n",
            "Trainable params: 14,636\n",
            "Non-trainable params: 204\n",
            "_________________________________________________________________\n",
            "WARNING:tensorflow:From /usr/local/lib/python3.6/dist-packages/tensorflow/python/ops/math_ops.py:3066: to_int32 (from tensorflow.python.ops.math_ops) is deprecated and will be removed in a future version.\n",
            "Instructions for updating:\n",
            "Use tf.cast instead.\n",
            "Epoch 1/40\n",
            "\n",
            "Epoch 00001: LearningRateScheduler setting learning rate to 0.003.\n",
            "938/938 [==============================] - 17s 18ms/step - loss: 0.1504 - acc: 0.9582 - val_loss: 0.0795 - val_acc: 0.9788\n",
            "Epoch 2/40\n",
            "\n",
            "Epoch 00002: LearningRateScheduler setting learning rate to 0.0022744503.\n",
            "938/938 [==============================] - 13s 13ms/step - loss: 0.0683 - acc: 0.9841 - val_loss: 0.0601 - val_acc: 0.9862\n",
            "Epoch 3/40\n",
            "\n",
            "Epoch 00003: LearningRateScheduler setting learning rate to 0.0018315018.\n",
            "938/938 [==============================] - 12s 13ms/step - loss: 0.0583 - acc: 0.9876 - val_loss: 0.0514 - val_acc: 0.9889\n",
            "Epoch 4/40\n",
            "\n",
            "Epoch 00004: LearningRateScheduler setting learning rate to 0.0015329586.\n",
            "938/938 [==============================] - 12s 13ms/step - loss: 0.0510 - acc: 0.9897 - val_loss: 0.0656 - val_acc: 0.9857\n",
            "Epoch 5/40\n",
            "\n",
            "Epoch 00005: LearningRateScheduler setting learning rate to 0.0013181019.\n",
            "938/938 [==============================] - 14s 14ms/step - loss: 0.0471 - acc: 0.9907 - val_loss: 0.0432 - val_acc: 0.9922\n",
            "Epoch 6/40\n",
            "\n",
            "Epoch 00006: LearningRateScheduler setting learning rate to 0.0011560694.\n",
            "938/938 [==============================] - 14s 15ms/step - loss: 0.0433 - acc: 0.9916 - val_loss: 0.0502 - val_acc: 0.9897\n",
            "Epoch 7/40\n",
            "\n",
            "Epoch 00007: LearningRateScheduler setting learning rate to 0.0010295127.\n",
            "938/938 [==============================] - 12s 13ms/step - loss: 0.0398 - acc: 0.9929 - val_loss: 0.0448 - val_acc: 0.9913\n",
            "Epoch 8/40\n",
            "\n",
            "Epoch 00008: LearningRateScheduler setting learning rate to 0.0009279307.\n",
            "938/938 [==============================] - 12s 13ms/step - loss: 0.0385 - acc: 0.9932 - val_loss: 0.0465 - val_acc: 0.9920\n",
            "Epoch 9/40\n",
            "\n",
            "Epoch 00009: LearningRateScheduler setting learning rate to 0.0008445946.\n",
            "938/938 [==============================] - 12s 13ms/step - loss: 0.0362 - acc: 0.9938 - val_loss: 0.0422 - val_acc: 0.9927\n",
            "Epoch 10/40\n",
            "\n",
            "Epoch 00010: LearningRateScheduler setting learning rate to 0.0007749935.\n",
            "938/938 [==============================] - 12s 13ms/step - loss: 0.0334 - acc: 0.9949 - val_loss: 0.0386 - val_acc: 0.9929\n",
            "Epoch 11/40\n",
            "\n",
            "Epoch 00011: LearningRateScheduler setting learning rate to 0.0007159905.\n",
            "938/938 [==============================] - 13s 14ms/step - loss: 0.0314 - acc: 0.9949 - val_loss: 0.0442 - val_acc: 0.9913\n",
            "Epoch 12/40\n",
            "\n",
            "Epoch 00012: LearningRateScheduler setting learning rate to 0.000665336.\n",
            "938/938 [==============================] - 13s 13ms/step - loss: 0.0310 - acc: 0.9950 - val_loss: 0.0427 - val_acc: 0.9914\n",
            "Epoch 13/40\n",
            "\n",
            "Epoch 00013: LearningRateScheduler setting learning rate to 0.0006213753.\n",
            "938/938 [==============================] - 12s 13ms/step - loss: 0.0293 - acc: 0.9955 - val_loss: 0.0371 - val_acc: 0.9930\n",
            "Epoch 14/40\n",
            "\n",
            "Epoch 00014: LearningRateScheduler setting learning rate to 0.0005828638.\n",
            "938/938 [==============================] - 13s 14ms/step - loss: 0.0283 - acc: 0.9959 - val_loss: 0.0412 - val_acc: 0.9920\n",
            "Epoch 15/40\n",
            "\n",
            "Epoch 00015: LearningRateScheduler setting learning rate to 0.0005488474.\n",
            "938/938 [==============================] - 13s 14ms/step - loss: 0.0267 - acc: 0.9963 - val_loss: 0.0349 - val_acc: 0.9934\n",
            "Epoch 16/40\n",
            "\n",
            "Epoch 00016: LearningRateScheduler setting learning rate to 0.0005185825.\n",
            "938/938 [==============================] - 13s 14ms/step - loss: 0.0260 - acc: 0.9963 - val_loss: 0.0406 - val_acc: 0.9922\n",
            "Epoch 17/40\n",
            "\n",
            "Epoch 00017: LearningRateScheduler setting learning rate to 0.000491481.\n",
            "938/938 [==============================] - 13s 14ms/step - loss: 0.0250 - acc: 0.9967 - val_loss: 0.0384 - val_acc: 0.9928\n",
            "Epoch 18/40\n",
            "\n",
            "Epoch 00018: LearningRateScheduler setting learning rate to 0.0004670715.\n",
            "938/938 [==============================] - 13s 14ms/step - loss: 0.0243 - acc: 0.9971 - val_loss: 0.0387 - val_acc: 0.9929\n",
            "Epoch 19/40\n",
            "\n",
            "Epoch 00019: LearningRateScheduler setting learning rate to 0.0004449718.\n",
            "938/938 [==============================] - 12s 13ms/step - loss: 0.0235 - acc: 0.9968 - val_loss: 0.0399 - val_acc: 0.9926\n",
            "Epoch 20/40\n",
            "\n",
            "Epoch 00020: LearningRateScheduler setting learning rate to 0.000424869.\n",
            "938/938 [==============================] - 12s 13ms/step - loss: 0.0220 - acc: 0.9973 - val_loss: 0.0416 - val_acc: 0.9917\n",
            "Epoch 21/40\n",
            "\n",
            "Epoch 00021: LearningRateScheduler setting learning rate to 0.0004065041.\n",
            "938/938 [==============================] - 12s 13ms/step - loss: 0.0220 - acc: 0.9970 - val_loss: 0.0364 - val_acc: 0.9936\n",
            "Epoch 22/40\n",
            "\n",
            "Epoch 00022: LearningRateScheduler setting learning rate to 0.000389661.\n",
            "938/938 [==============================] - 12s 13ms/step - loss: 0.0206 - acc: 0.9976 - val_loss: 0.0377 - val_acc: 0.9929\n",
            "Epoch 23/40\n",
            "\n",
            "Epoch 00023: LearningRateScheduler setting learning rate to 0.0003741581.\n",
            "938/938 [==============================] - 12s 13ms/step - loss: 0.0210 - acc: 0.9973 - val_loss: 0.0400 - val_acc: 0.9925\n",
            "Epoch 24/40\n",
            "\n",
            "Epoch 00024: LearningRateScheduler setting learning rate to 0.0003598417.\n",
            "938/938 [==============================] - 13s 14ms/step - loss: 0.0204 - acc: 0.9975 - val_loss: 0.0340 - val_acc: 0.9941\n",
            "Epoch 25/40\n",
            "\n",
            "Epoch 00025: LearningRateScheduler setting learning rate to 0.0003465804.\n",
            "938/938 [==============================] - 12s 13ms/step - loss: 0.0199 - acc: 0.9976 - val_loss: 0.0349 - val_acc: 0.9938\n",
            "Epoch 26/40\n",
            "\n",
            "Epoch 00026: LearningRateScheduler setting learning rate to 0.0003342618.\n",
            "938/938 [==============================] - 12s 13ms/step - loss: 0.0186 - acc: 0.9982 - val_loss: 0.0348 - val_acc: 0.9933\n",
            "Epoch 27/40\n",
            "\n",
            "Epoch 00027: LearningRateScheduler setting learning rate to 0.0003227889.\n",
            "938/938 [==============================] - 12s 13ms/step - loss: 0.0189 - acc: 0.9978 - val_loss: 0.0350 - val_acc: 0.9934\n",
            "Epoch 28/40\n",
            "\n",
            "Epoch 00028: LearningRateScheduler setting learning rate to 0.0003120774.\n",
            "938/938 [==============================] - 12s 13ms/step - loss: 0.0181 - acc: 0.9980 - val_loss: 0.0358 - val_acc: 0.9930\n",
            "Epoch 29/40\n",
            "\n",
            "Epoch 00029: LearningRateScheduler setting learning rate to 0.000302054.\n",
            "938/938 [==============================] - 12s 13ms/step - loss: 0.0177 - acc: 0.9982 - val_loss: 0.0353 - val_acc: 0.9937\n",
            "Epoch 30/40\n",
            "\n",
            "Epoch 00030: LearningRateScheduler setting learning rate to 0.0002926544.\n",
            "938/938 [==============================] - 13s 14ms/step - loss: 0.0174 - acc: 0.9984 - val_loss: 0.0395 - val_acc: 0.9923\n",
            "Epoch 31/40\n",
            "\n",
            "Epoch 00031: LearningRateScheduler setting learning rate to 0.0002838221.\n",
            "938/938 [==============================] - 13s 14ms/step - loss: 0.0173 - acc: 0.9981 - val_loss: 0.0341 - val_acc: 0.9939\n",
            "Epoch 32/40\n",
            "\n",
            "Epoch 00032: LearningRateScheduler setting learning rate to 0.0002755074.\n",
            "938/938 [==============================] - 12s 13ms/step - loss: 0.0162 - acc: 0.9987 - val_loss: 0.0361 - val_acc: 0.9931\n",
            "Epoch 33/40\n",
            "\n",
            "Epoch 00033: LearningRateScheduler setting learning rate to 0.000267666.\n",
            "938/938 [==============================] - 12s 13ms/step - loss: 0.0161 - acc: 0.9986 - val_loss: 0.0381 - val_acc: 0.9927\n",
            "Epoch 34/40\n",
            "\n",
            "Epoch 00034: LearningRateScheduler setting learning rate to 0.0002602585.\n",
            "938/938 [==============================] - 12s 13ms/step - loss: 0.0158 - acc: 0.9984 - val_loss: 0.0335 - val_acc: 0.9936\n",
            "Epoch 35/40\n",
            "\n",
            "Epoch 00035: LearningRateScheduler setting learning rate to 0.00025325.\n",
            "938/938 [==============================] - 12s 13ms/step - loss: 0.0154 - acc: 0.9986 - val_loss: 0.0351 - val_acc: 0.9936\n",
            "Epoch 36/40\n",
            "\n",
            "Epoch 00036: LearningRateScheduler setting learning rate to 0.0002466091.\n",
            "938/938 [==============================] - 12s 13ms/step - loss: 0.0153 - acc: 0.9986 - val_loss: 0.0371 - val_acc: 0.9925\n",
            "Epoch 37/40\n",
            "\n",
            "Epoch 00037: LearningRateScheduler setting learning rate to 0.0002403076.\n",
            "938/938 [==============================] - 13s 14ms/step - loss: 0.0150 - acc: 0.9986 - val_loss: 0.0360 - val_acc: 0.9920\n",
            "Epoch 38/40\n",
            "\n",
            "Epoch 00038: LearningRateScheduler setting learning rate to 0.0002343201.\n",
            "938/938 [==============================] - 12s 13ms/step - loss: 0.0148 - acc: 0.9988 - val_loss: 0.0341 - val_acc: 0.9934\n",
            "Epoch 39/40\n",
            "\n",
            "Epoch 00039: LearningRateScheduler setting learning rate to 0.0002286237.\n",
            "938/938 [==============================] - 13s 14ms/step - loss: 0.0143 - acc: 0.9989 - val_loss: 0.0344 - val_acc: 0.9940\n",
            "Epoch 40/40\n",
            "\n",
            "Epoch 00040: LearningRateScheduler setting learning rate to 0.0002231977.\n",
            "938/938 [==============================] - 12s 13ms/step - loss: 0.0145 - acc: 0.9988 - val_loss: 0.0361 - val_acc: 0.9934\n"
          ],
          "name": "stdout"
        },
        {
          "output_type": "execute_result",
          "data": {
            "text/plain": [
              "<keras.callbacks.History at 0x7fa3dc518c88>"
            ]
          },
          "metadata": {
            "tags": []
          },
          "execution_count": 15
        }
      ]
    },
    {
      "cell_type": "markdown",
      "metadata": {
        "id": "OUCN2-qGz7nH",
        "colab_type": "text"
      },
      "source": [
        "Importing the best fit model"
      ]
    },
    {
      "cell_type": "code",
      "metadata": {
        "id": "pIQnJhtRCW_j",
        "colab_type": "code",
        "colab": {}
      },
      "source": [
        "from keras.models import load_model \n",
        "final_model = load_model('model.24-0.03.hdf5')"
      ],
      "execution_count": 0,
      "outputs": []
    },
    {
      "cell_type": "markdown",
      "metadata": {
        "id": "s_N_cuLHz_gr",
        "colab_type": "text"
      },
      "source": [
        "Evaluating the model score"
      ]
    },
    {
      "cell_type": "code",
      "metadata": {
        "id": "gv9pzET_jtvu",
        "colab_type": "code",
        "colab": {
          "base_uri": "https://localhost:8080/",
          "height": 34
        },
        "outputId": "55663e80-298e-4220-afac-31bffc976dbc"
      },
      "source": [
        "score = final_model.evaluate_generator(test_iterator,steps=len(test_iterator))\n",
        "print(score)"
      ],
      "execution_count": 19,
      "outputs": [
        {
          "output_type": "stream",
          "text": [
            "[0.0336482815310359, 0.9943]\n"
          ],
          "name": "stdout"
        }
      ]
    },
    {
      "cell_type": "code",
      "metadata": {
        "id": "GkQq3pjO0O1M",
        "colab_type": "code",
        "colab": {
          "base_uri": "https://localhost:8080/",
          "height": 255
        },
        "outputId": "2ff16606-feb3-4065-8c67-6f249cc9a3ed"
      },
      "source": [
        "predicted = final_model.predict_generator(test_iterator,steps=len(test_iterator),verbose=1) \n",
        "predicted"
      ],
      "execution_count": 106,
      "outputs": [
        {
          "output_type": "stream",
          "text": [
            "157/157 [==============================] - 0s 3ms/step\n"
          ],
          "name": "stdout"
        },
        {
          "output_type": "execute_result",
          "data": {
            "text/plain": [
              "array([[2.3875279e-08, 1.5184404e-06, 4.7798012e-04, ..., 3.5637186e-06,\n",
              "        2.2748040e-02, 9.5216352e-01],\n",
              "       [2.8184365e-11, 1.4259697e-12, 1.3260355e-08, ..., 8.2674126e-15,\n",
              "        9.9999785e-01, 9.9589337e-10],\n",
              "       [9.9994469e-01, 1.4090588e-06, 3.6844114e-05, ..., 1.2973686e-07,\n",
              "        1.2071213e-05, 2.0506297e-08],\n",
              "       ...,\n",
              "       [9.4811811e-11, 9.3606971e-08, 2.7648948e-09, ..., 1.5396679e-05,\n",
              "        2.1029898e-07, 9.9972659e-01],\n",
              "       [1.9223856e-09, 2.1607756e-11, 1.3151443e-05, ..., 6.0330439e-12,\n",
              "        9.9998605e-01, 2.4453120e-10],\n",
              "       [1.3134243e-11, 3.8881533e-11, 1.7184590e-13, ..., 4.2043907e-12,\n",
              "        2.9494824e-08, 1.4286767e-06]], dtype=float32)"
            ]
          },
          "metadata": {
            "tags": []
          },
          "execution_count": 106
        }
      ]
    },
    {
      "cell_type": "code",
      "metadata": {
        "id": "sVxzLdMHkAub",
        "colab_type": "code",
        "colab": {
          "base_uri": "https://localhost:8080/",
          "height": 136
        },
        "outputId": "9284d052-5814-4669-8954-80309497d427"
      },
      "source": [
        "Y_test"
      ],
      "execution_count": 127,
      "outputs": [
        {
          "output_type": "execute_result",
          "data": {
            "text/plain": [
              "array([[0., 0., 0., ..., 1., 0., 0.],\n",
              "       [0., 0., 1., ..., 0., 0., 0.],\n",
              "       [0., 1., 0., ..., 0., 0., 0.],\n",
              "       ...,\n",
              "       [0., 0., 0., ..., 0., 0., 0.],\n",
              "       [0., 0., 0., ..., 0., 0., 0.],\n",
              "       [0., 0., 0., ..., 0., 0., 0.]], dtype=float32)"
            ]
          },
          "metadata": {
            "tags": []
          },
          "execution_count": 127
        }
      ]
    },
    {
      "cell_type": "code",
      "metadata": {
        "id": "Az-pw8LSkKGr",
        "colab_type": "code",
        "colab": {
          "base_uri": "https://localhost:8080/",
          "height": 136
        },
        "outputId": "887168f4-3410-45c0-f679-efbb507a5043"
      },
      "source": [
        "actual_predicted"
      ],
      "execution_count": 131,
      "outputs": [
        {
          "output_type": "execute_result",
          "data": {
            "text/plain": [
              "array([[0., 0., 0., ..., 0., 0., 1.],\n",
              "       [0., 0., 0., ..., 0., 1., 0.],\n",
              "       [1., 0., 0., ..., 0., 0., 0.],\n",
              "       ...,\n",
              "       [0., 0., 0., ..., 0., 0., 1.],\n",
              "       [0., 0., 0., ..., 0., 1., 0.],\n",
              "       [0., 0., 0., ..., 0., 0., 0.]], dtype=float32)"
            ]
          },
          "metadata": {
            "tags": []
          },
          "execution_count": 131
        }
      ]
    },
    {
      "cell_type": "code",
      "metadata": {
        "id": "W2ha8R02X7YK",
        "colab_type": "code",
        "colab": {
          "base_uri": "https://localhost:8080/",
          "height": 51
        },
        "outputId": "57028fcd-4d34-4acb-b879-5f5b9ccb9913"
      },
      "source": [
        "actual_predicted = np.rint(predicted)\n",
        "Predicted_label = np.where(actual_predicted==1)[1]\n",
        "Y_test_label = np.where(Y_test==1)[1]\n",
        "index = Predicted_label[Predicted_label != Y_test_label[0:9997]][0:25]\n",
        "index"
      ],
      "execution_count": 139,
      "outputs": [
        {
          "output_type": "execute_result",
          "data": {
            "text/plain": [
              "array([9, 8, 0, 3, 9, 3, 1, 8, 0, 1, 7, 0, 1, 2, 5, 7, 8, 4, 1, 6, 2, 2,\n",
              "       8, 3, 4])"
            ]
          },
          "metadata": {
            "tags": []
          },
          "execution_count": 139
        }
      ]
    },
    {
      "cell_type": "code",
      "metadata": {
        "id": "d67WrWPplWVh",
        "colab_type": "code",
        "colab": {}
      },
      "source": [
        "import numpy as np\n",
        "import matplotlib.pyplot as plt\n",
        "import keras\n",
        "from keras.preprocessing.image import ImageDataGenerator\n",
        "\n",
        "# plots images with labels within jupyter notebook\n",
        "def plots(ims, figsize=(12,6), rows=2, interp=False,titles = None):\n",
        "    f = plt.figure(figsize=figsize)\n",
        "    cols = len(ims)//rows if len(ims) % 2 == 0 else len(ims)//rows + 1\n",
        "    for i in range(len(ims)):\n",
        "        sp = f.add_subplot(rows, cols, i+1)\n",
        "        if titles is not None:\n",
        "            sp.set_title(titles[i], fontsize=16)\n",
        "        sp.axis('Off')\n",
        "        plt.imshow(ims[i])\n"
      ],
      "execution_count": 0,
      "outputs": []
    },
    {
      "cell_type": "code",
      "metadata": {
        "id": "W-7-prodSo9U",
        "colab_type": "code",
        "colab": {}
      },
      "source": [
        "(X_train_original, y_train_original), (X_test_orginal, y_test_orginal) = mnist.load_data()"
      ],
      "execution_count": 0,
      "outputs": []
    },
    {
      "cell_type": "code",
      "metadata": {
        "id": "v7GPswHGEGBF",
        "colab_type": "code",
        "colab": {
          "base_uri": "https://localhost:8080/",
          "height": 287
        },
        "outputId": "60887c94-4535-4bf6-e42c-fd3d05be05ee"
      },
      "source": [
        "plots(ims = X_test_orginal[index],titles=Predicted_label[index])"
      ],
      "execution_count": 140,
      "outputs": [
        {
          "output_type": "display_data",
          "data": {
            "image/png": "[encoded data removed]",
            "text/plain": [
              "<Figure size 864x432 with 25 Axes>"
            ]
          },
          "metadata": {
            "tags": []
          }
        }
      ]
    }
  ]
}