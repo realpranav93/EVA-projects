{
  "nbformat": 4,
  "nbformat_minor": 0,
  "metadata": {
    "colab": {
      "name": "assignment7a_pranav.ipynb",
      "version": "0.3.2",
      "provenance": [],
      "collapsed_sections": []
    },
    "kernelspec": {
      "name": "python3",
      "display_name": "Python 3"
    }
  },
  "cells": [
    {
      "cell_type": "code",
      "metadata": {
        "id": "JUOpqucLCKdz",
        "colab_type": "code",
        "colab": {}
      },
      "source": [
        "import pandas as pd\n",
        "import numpy as np\n",
        "import math"
      ],
      "execution_count": 0,
      "outputs": []
    },
    {
      "cell_type": "code",
      "metadata": {
        "id": "T7hmfVG6GO-x",
        "colab_type": "code",
        "colab": {}
      },
      "source": [
        "def receptive_field(n_in,padding,rin,jin,stride,kernel):\n",
        "  nout = math.ceil((n_in + 2*padding - kernel)/stride) + 1\n",
        "  jout = jin*stride\n",
        "  rout = rin + (kernel-1)*jin\n",
        "  print(n_in,\"\\t\",kernel,\"\\t\",nout,\"\\t\",jin,\"\\t  \",stride,\"\\t   \",rout,\"\\t            \",jout)\n",
        "  return rout,jout,nout"
      ],
      "execution_count": 0,
      "outputs": []
    },
    {
      "cell_type": "code",
      "metadata": {
        "id": "TPRRapc06vNY",
        "colab_type": "code",
        "outputId": "c5bd85e5-1b30-44b9-de14-345c6bb711e8",
        "colab": {
          "base_uri": "https://localhost:8080/",
          "height": 34
        }
      },
      "source": [
        "print(\" input_image_in \",\" Kernel \",\" input_image_out \",\" jump_in \",\" Stride \",\" Receptive field \",\" jump_out \")"
      ],
      "execution_count": 0,
      "outputs": [
        {
          "output_type": "stream",
          "text": [
            " input_image_in   Kernel   input_image_out   jump_in   Stride   Receptive field   jump_out \n"
          ],
          "name": "stdout"
        }
      ]
    },
    {
      "cell_type": "code",
      "metadata": {
        "id": "Mh8JpE_PGTHV",
        "colab_type": "code",
        "outputId": "fdd41018-c8a9-4683-d01e-e24e0cbfb68c",
        "colab": {
          "base_uri": "https://localhost:8080/",
          "height": 306
        }
      },
      "source": [
        "print(\" n_in \",\" Kernel \",\" n_out \",\" jump_in \",\" Stride \",\" Receptive_field \",\" jump_out \")\n",
        "\n",
        "rin = 1\n",
        "jin = 1\n",
        "padding = 2 \n",
        "n_in = 224\n",
        "#layer1\n",
        "stride = 2\n",
        "kernel = 7\n",
        "rin,jin,n_in = receptive_field(n_in,padding,rin,jin,stride,kernel)\n",
        "\n",
        "#layer max pooling 1\n",
        "padding = 0\n",
        "kernel = 3\n",
        "stride = 2\n",
        "rin,jin,n_in = receptive_field(n_in,padding,rin,jin,stride,kernel)\n",
        "\n",
        "#layer2 \n",
        "padding = 1\n",
        "kernel = 3\n",
        "stride = 1\n",
        "rin,jin,n_in = receptive_field(n_in,padding,rin,jin,stride,kernel)\n",
        "\n",
        "#layer maxpooling 2\n",
        "padding = 0\n",
        "kernel = 3\n",
        "stride = 2\n",
        "rin,jin,n_in = receptive_field(n_in,padding,rin,jin,stride,kernel)\n",
        "\n",
        "#layer3a\n",
        "padding = 2\n",
        "kernel = 5\n",
        "stride = 1\n",
        "rin,jin,n_in = receptive_field(n_in,padding,rin,jin,stride,kernel)\n",
        "\n",
        "#layer3b\n",
        "padding = 2\n",
        "kernel = 5\n",
        "stride = 1\n",
        "rin,jin,n_in = receptive_field(n_in,padding,rin,jin,stride,kernel)\n",
        "\n",
        "#layer maxpooling 3\n",
        "padding = 0\n",
        "kernel = 3\n",
        "stride = 2\n",
        "rin,jin,n_in = receptive_field(n_in,padding,rin,jin,stride,kernel)\n",
        "\n",
        "#layer 4a\n",
        "padding = 2 \n",
        "kernel = 5\n",
        "stride = 1\n",
        "rin,jin,n_in = receptive_field(n_in,padding,rin,jin,stride,kernel)\n",
        "\n",
        "#layer 4b\n",
        "padding = 2\n",
        "kernel = 5\n",
        "stride = 1\n",
        "rin,jin,n_in = receptive_field(n_in,padding,rin,jin,stride,kernel)\n",
        "\n",
        "#layer 4c\n",
        "padding = 2 \n",
        "kernel = 5\n",
        "stride = 1\n",
        "rin,jin,n_in = receptive_field(n_in,padding,rin,jin,stride,kernel)\n",
        "\n",
        "#layer 4d\n",
        "padding = 2 \n",
        "kernel = 5\n",
        "stride = 1\n",
        "rin,jin,n_in = receptive_field(n_in,padding,rin,jin,stride,kernel)\n",
        "\n",
        "#layer 4e \n",
        "padding = 2 \n",
        "kernel = 5\n",
        "stride = 1\n",
        "rin,jin,n_in = receptive_field(n_in,padding,rin,jin,stride,kernel)\n",
        "\n",
        "#layer maxpooling4\n",
        "padding = 0\n",
        "kernel = 3\n",
        "stride = 2\n",
        "rin,jin,n_in = receptive_field(n_in,padding,rin,jin,stride,kernel)\n",
        "\n",
        "#layer 5a\n",
        "padding  = 2\n",
        "kernel = 5\n",
        "stride = 1\n",
        "rin,jin,n_in = receptive_field(n_in,padding,rin,jin,stride,kernel)\n",
        "\n",
        "#layer5b\n",
        "padding  = 2\n",
        "kernel = 5\n",
        "stride = 1\n",
        "rin,jin,n_in = receptive_field(n_in,padding,rin,jin,stride,kernel)\n",
        "\n",
        "#layer11 avg pooling\n",
        "padding = 0\n",
        "kernel = 7\n",
        "stride = 7\n",
        "rin,jin,n_in = receptive_field(n_in,padding,rin,jin,stride,kernel)\n"
      ],
      "execution_count": 0,
      "outputs": [
        {
          "output_type": "stream",
          "text": [
            " n_in   Kernel   n_out   jump_in   Stride   Receptive_field   jump_out \n",
            "224 \t 7 \t 112 \t 1 \t   2 \t    7 \t             2\n",
            "112 \t 3 \t 56 \t 2 \t   2 \t    11 \t             4\n",
            "56 \t 3 \t 56 \t 4 \t   1 \t    19 \t             4\n",
            "56 \t 3 \t 28 \t 4 \t   2 \t    27 \t             8\n",
            "28 \t 5 \t 28 \t 8 \t   1 \t    59 \t             8\n",
            "28 \t 5 \t 28 \t 8 \t   1 \t    91 \t             8\n",
            "28 \t 3 \t 14 \t 8 \t   2 \t    107 \t             16\n",
            "14 \t 5 \t 14 \t 16 \t   1 \t    171 \t             16\n",
            "14 \t 5 \t 14 \t 16 \t   1 \t    235 \t             16\n",
            "14 \t 5 \t 14 \t 16 \t   1 \t    299 \t             16\n",
            "14 \t 5 \t 14 \t 16 \t   1 \t    363 \t             16\n",
            "14 \t 5 \t 14 \t 16 \t   1 \t    427 \t             16\n",
            "14 \t 3 \t 7 \t 16 \t   2 \t    459 \t             32\n",
            "7 \t 5 \t 7 \t 32 \t   1 \t    587 \t             32\n",
            "7 \t 5 \t 7 \t 32 \t   1 \t    715 \t             32\n",
            "7 \t 7 \t 1 \t 32 \t   7 \t    907 \t             224\n"
          ],
          "name": "stdout"
        }
      ]
    },
    {
      "cell_type": "code",
      "metadata": {
        "id": "EFgCsjyYRt1u",
        "colab_type": "code",
        "colab": {}
      },
      "source": [
        ""
      ],
      "execution_count": 0,
      "outputs": []
    }
  ]
}